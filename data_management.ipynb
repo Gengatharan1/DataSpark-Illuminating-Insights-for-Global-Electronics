{
 "cells": [
  {
   "cell_type": "code",
   "execution_count": 2,
   "metadata": {},
   "outputs": [],
   "source": [
    "import pandas as pd\n",
    "from sqlalchemy import create_engine, text\n",
    "from sqlalchemy.orm import sessionmaker\n",
    "import os\n",
    "from dotenv import load_dotenv, find_dotenv\n",
    "\n",
    "# Load environment variables\n",
    "load_dotenv(find_dotenv())\n",
    "db_name = os.environ.get('db_name')\n",
    "db_user = os.environ.get('db_user')\n",
    "db_pwd = os.environ.get('db_pwd')\n",
    "db_host = os.environ.get('db_host')\n",
    "db_port = os.environ.get('endpoint', 5432)"
   ]
  },
  {
   "cell_type": "code",
   "execution_count": 3,
   "metadata": {},
   "outputs": [
    {
     "name": "stdout",
     "output_type": "stream",
     "text": [
      "Database connection established.\n"
     ]
    }
   ],
   "source": [
    "# Ensure db_port is an integer\n",
    "db_port = int(db_port)\n",
    "\n",
    "# Create SQLAlchemy engine for PostgreSQL\n",
    "try:\n",
    "    engine = create_engine(f'postgresql://{db_user}:{db_pwd}@{db_host}:{db_port}/{db_name}')\n",
    "    print(\"Database connection established.\")\n",
    "except Exception as e:\n",
    "    print(f\"Error connecting to the database: {e}\")\n",
    "    raise\n",
    "\n",
    "# Define function to execute SQL and load data\n",
    "def create_table_and_load_data(engine, create_table_query, csv_file_path, table_name):\n",
    "    try:\n",
    "        # Execute the create table command\n",
    "        with engine.connect() as connection:\n",
    "            connection.execute(text(create_table_query))\n",
    "            print(f\"Table {table_name} created successfully or already exists.\")\n",
    "\n",
    "        # Load data into the table\n",
    "        df = pd.read_csv(csv_file_path)\n",
    "        df.to_sql(table_name, con=engine, if_exists='append', index=False)\n",
    "        print(f\"Data from {csv_file_path} loaded successfully into {table_name}.\")\n",
    "\n",
    "    except Exception as e:\n",
    "        print(f\"Error processing table {table_name}: {e}\")"
   ]
  },
  {
   "cell_type": "code",
   "execution_count": 4,
   "metadata": {},
   "outputs": [
    {
     "name": "stdout",
     "output_type": "stream",
     "text": [
      "Table Customers created successfully or already exists.\n",
      "Data from cleaned_datasets/Customers.csv loaded successfully into Customers.\n",
      "Table ExchangeRates created successfully or already exists.\n",
      "Data from cleaned_datasets/Exchange_Rates.csv loaded successfully into ExchangeRates.\n",
      "Table Products created successfully or already exists.\n",
      "Data from cleaned_datasets/Products.csv loaded successfully into Products.\n",
      "Table Sales created successfully or already exists.\n",
      "Data from cleaned_datasets/Sales.csv loaded successfully into Sales.\n",
      "Table Stores created successfully or already exists.\n",
      "Data from cleaned_datasets/Stores.csv loaded successfully into Stores.\n"
     ]
    }
   ],
   "source": [
    "# 1. Customers table\n",
    "create_table_query1 = \"\"\"\n",
    "CREATE TABLE IF NOT EXISTS Customers (\n",
    "    CustomerKey SERIAL PRIMARY KEY,\n",
    "    Gender VARCHAR(10),\n",
    "    Name VARCHAR(255),\n",
    "    City VARCHAR(255),\n",
    "    StateCode VARCHAR(255),\n",
    "    State VARCHAR(255),\n",
    "    ZipCode VARCHAR(20),\n",
    "    Country VARCHAR(100),\n",
    "    Continent VARCHAR(100),\n",
    "    Birthday DATE,\n",
    "    Age INT,\n",
    "    AgeRange VARCHAR(20)\n",
    ")\n",
    "\"\"\"\n",
    "create_table_and_load_data(engine, create_table_query1, \"cleaned_datasets/Customers.csv\", \"Customers\")\n",
    "\n",
    "# 2. ExchangeRates table\n",
    "create_table_query2 = \"\"\"\n",
    "CREATE TABLE IF NOT EXISTS ExchangeRates (\n",
    "    Date DATE,\n",
    "    Currency VARCHAR(3),\n",
    "    Exchange FLOAT,\n",
    "    PRIMARY KEY (Date, Currency)\n",
    ")\n",
    "\"\"\"\n",
    "create_table_and_load_data(engine, create_table_query2, \"cleaned_datasets/Exchange_Rates.csv\", \"ExchangeRates\")\n",
    "\n",
    "# 3. Products table\n",
    "create_table_query3 = \"\"\"\n",
    "CREATE TABLE IF NOT EXISTS Products (\n",
    "    ProductKey SERIAL PRIMARY KEY,\n",
    "    ProductName VARCHAR(255),\n",
    "    Brand VARCHAR(100),\n",
    "    Color VARCHAR(50),\n",
    "    UnitCostUSD FLOAT,\n",
    "    UnitPriceUSD FLOAT,\n",
    "    SubcategoryKey INT,\n",
    "    Subcategory VARCHAR(255),\n",
    "    CategoryKey INT,\n",
    "    Category VARCHAR(255)\n",
    ")\n",
    "\"\"\"\n",
    "create_table_and_load_data(engine, create_table_query3, \"cleaned_datasets/Products.csv\", \"Products\")\n",
    "\n",
    "# 4. Sales table\n",
    "create_table_query4 = \"\"\"\n",
    "CREATE TABLE IF NOT EXISTS Sales (\n",
    "    OrderNumber INT,\n",
    "    LineItem INT,\n",
    "    OrderDate DATE,\n",
    "    DeliveryDate DATE,\n",
    "    CustomerKey INT,\n",
    "    StoreKey INT,\n",
    "    ProductKey INT,\n",
    "    Quantity INT,\n",
    "    CurrencyCode VARCHAR(10),\n",
    "    PRIMARY KEY (OrderNumber, LineItem)\n",
    ")\n",
    "\"\"\"\n",
    "create_table_and_load_data(engine, create_table_query4, \"cleaned_datasets/Sales.csv\", \"Sales\")\n",
    "\n",
    "# 5. Stores table\n",
    "create_table_query5 = \"\"\"\n",
    "CREATE TABLE IF NOT EXISTS Stores (\n",
    "    StoreKey SERIAL PRIMARY KEY,\n",
    "    Country VARCHAR(100),\n",
    "    State VARCHAR(100),\n",
    "    SquareMeters FLOAT,\n",
    "    OpenDate DATE\n",
    ")\n",
    "\"\"\"\n",
    "create_table_and_load_data(engine, create_table_query5, \"cleaned_datasets/Stores.csv\", \"Stores\")"
   ]
  }
 ],
 "metadata": {
  "kernelspec": {
   "display_name": "Python 3",
   "language": "python",
   "name": "python3"
  },
  "language_info": {
   "codemirror_mode": {
    "name": "ipython",
    "version": 3
   },
   "file_extension": ".py",
   "mimetype": "text/x-python",
   "name": "python",
   "nbconvert_exporter": "python",
   "pygments_lexer": "ipython3",
   "version": "3.12.5"
  }
 },
 "nbformat": 4,
 "nbformat_minor": 2
}
